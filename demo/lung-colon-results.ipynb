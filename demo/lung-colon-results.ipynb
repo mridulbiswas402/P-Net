{
 "cells": [
  {
   "cell_type": "code",
   "execution_count": 1,
   "id": "0e59823c",
   "metadata": {
    "execution": {
     "iopub.execute_input": "2023-04-01T23:04:26.722822Z",
     "iopub.status.busy": "2023-04-01T23:04:26.722368Z",
     "iopub.status.idle": "2023-04-01T23:04:29.194328Z",
     "shell.execute_reply": "2023-04-01T23:04:29.193300Z"
    },
    "papermill": {
     "duration": 2.481186,
     "end_time": "2023-04-01T23:04:29.197183",
     "exception": false,
     "start_time": "2023-04-01T23:04:26.715997",
     "status": "completed"
    },
    "tags": []
   },
   "outputs": [],
   "source": [
    "import torch\n",
    "import torch.optim as optim\n",
    "import torch.nn as nn\n",
    "import torch.nn.functional as F\n",
    "from torch import linalg as LA\n",
    "from collections import OrderedDict"
   ]
  },
  {
   "cell_type": "code",
   "execution_count": 2,
   "id": "02b902bf",
   "metadata": {
    "execution": {
     "iopub.execute_input": "2023-04-01T23:04:29.208004Z",
     "iopub.status.busy": "2023-04-01T23:04:29.207545Z",
     "iopub.status.idle": "2023-04-01T23:04:30.050288Z",
     "shell.execute_reply": "2023-04-01T23:04:30.049257Z"
    },
    "papermill": {
     "duration": 0.850552,
     "end_time": "2023-04-01T23:04:30.052953",
     "exception": false,
     "start_time": "2023-04-01T23:04:29.202401",
     "status": "completed"
    },
    "tags": []
   },
   "outputs": [],
   "source": [
    "from sklearn import metrics\n",
    "import matplotlib.pyplot as plt\n",
    "import numpy as np\n",
    "import pickle"
   ]
  },
  {
   "cell_type": "code",
   "execution_count": 3,
   "id": "fc31697e",
   "metadata": {
    "execution": {
     "iopub.execute_input": "2023-04-01T23:04:30.062235Z",
     "iopub.status.busy": "2023-04-01T23:04:30.061922Z",
     "iopub.status.idle": "2023-04-01T23:04:30.134873Z",
     "shell.execute_reply": "2023-04-01T23:04:30.133906Z"
    },
    "papermill": {
     "duration": 0.080042,
     "end_time": "2023-04-01T23:04:30.137011",
     "exception": false,
     "start_time": "2023-04-01T23:04:30.056969",
     "status": "completed"
    },
    "tags": []
   },
   "outputs": [
    {
     "name": "stdout",
     "output_type": "stream",
     "text": [
      "cuda\n"
     ]
    }
   ],
   "source": [
    "device = 'cuda' if torch.cuda.is_available() else 'cpu'\n",
    "print(device)"
   ]
  },
  {
   "cell_type": "code",
   "execution_count": 4,
   "id": "f9c0cc38",
   "metadata": {
    "execution": {
     "iopub.execute_input": "2023-04-01T23:04:30.146463Z",
     "iopub.status.busy": "2023-04-01T23:04:30.146150Z",
     "iopub.status.idle": "2023-04-01T23:04:30.173330Z",
     "shell.execute_reply": "2023-04-01T23:04:30.172247Z"
    },
    "papermill": {
     "duration": 0.034782,
     "end_time": "2023-04-01T23:04:30.175719",
     "exception": false,
     "start_time": "2023-04-01T23:04:30.140937",
     "status": "completed"
    },
    "tags": []
   },
   "outputs": [],
   "source": [
    "class P_Net(nn.Module):\n",
    "    \"\"\" Input format is [b,c,h,w] , it outputs norms of output feature map if final is true \n",
    "        else outputs feature map of same formate as input.\n",
    "        The feature map transforms as [b,n,d,d]->[b,k,d,d]\n",
    "        where n(on of input planes),k(no of output planes) and d(dim of each planes)\n",
    "    \"\"\"\n",
    "   \n",
    "    def __init__(self,in_units,out_units,units_dim,share_weights=True,final=False,**kwargs):\n",
    "        super(P_Net, self).__init__(**kwargs)\n",
    "        self.n = in_units\n",
    "        self.k = out_units\n",
    "        self.d = units_dim\n",
    "        self.final=final\n",
    "        self.share_weights = share_weights\n",
    "        \n",
    "        # module parameters\n",
    "        self.R = nn.parameter.Parameter(data=torch.empty(1,self.n,self.k),requires_grad=True)\n",
    "        nn.init.xavier_uniform_(self.R,gain=1.414) # initializing the weights.\n",
    "\n",
    "        if(self.share_weights):  \n",
    "            \"\"\" W is 'nk-shared' i.e it is shared among k classes and n feature maps\"\"\"\n",
    "            self.W = nn.parameter.Parameter(data=torch.empty(1,self.d,self.d),requires_grad=True)\n",
    "            nn.init.xavier_uniform_(self.W,gain=1.414) # initializing the weights.\n",
    "        \n",
    "\n",
    "    def forward(self, x):\n",
    "        #R_nor = F.softmax(self.R, dim=1)\n",
    "        #R_nor = constrain(self.R)\n",
    "        if(self.share_weights):\n",
    "            W_s = torch.tile(self.W,[1,self.n,1,1])\n",
    "            x = torch.matmul(W_s,x)\n",
    "        x = torch.unsqueeze(x,dim=2)\n",
    "        x = torch.tile(x,dims=[1, 1, self.k, 1, 1])\n",
    "        x = torch.mul(x,torch.reshape(self.R, shape=[1, self.n, self.k, 1, 1]))\n",
    "        x = torch.sum(x,dim=1)\n",
    "        x = F.relu(x)\n",
    "        if(self.final):\n",
    "            x = LA.matrix_norm(x+1e-7,ord='fro',dim=(-2,-1))\n",
    "        return x\n",
    "\n",
    "class conv_block(nn.Module):\n",
    "\n",
    "      def __init__(self, in_channels=12,out_channels=12):\n",
    "          super(conv_block,self).__init__()\n",
    "          self.conv1 = nn.Conv2d(in_channels, out_channels, kernel_size=1, stride=1,padding='same', bias = False)\n",
    "          self.conv3 = nn.Conv2d(out_channels, out_channels, kernel_size=3, stride=1,padding='same', bias = False)\n",
    "          self.relu = nn.ReLU(inplace=True)\n",
    "          self.bn1 = nn.BatchNorm2d(in_channels)\n",
    "          self.bn2 = nn.BatchNorm2d(out_channels)\n",
    "\n",
    "      def forward(self, x):\n",
    "          x = self.conv1(self.relu(self.bn1(x)))\n",
    "          x = self.conv3(self.relu(self.bn2(x)))\n",
    "          return x\n",
    "\n",
    "          \n",
    "class Transition(nn.Module):\n",
    "\n",
    "      def __init__(self, in_channels=12, out_channels =12):\n",
    "          super(Transition,self).__init__()\n",
    "          self.in_channels = in_channels\n",
    "          self.out_channels = out_channels\n",
    "\n",
    "          self.conv1 = nn.Conv2d(self.in_channels, self.out_channels, kernel_size=1, stride=1,padding='same', bias = False)\n",
    "          self.bn1 = nn.BatchNorm2d(self.in_channels)\n",
    "\n",
    "      def forward(self, x):\n",
    "          x = self.conv1(F.relu(self.bn1(x),inplace = True))\n",
    "          x = F.avg_pool2d(x, 2, stride=2)\n",
    "          #self.outplane_dim = x.shape[-1]\n",
    "          return x\n",
    "\n",
    "\n",
    "class DenseBlock(nn.ModuleDict):\n",
    "\n",
    "    def __init__(\n",
    "        self,\n",
    "        num_layers: int,\n",
    "        num_input_features: int,\n",
    "        growth_rate: int,\n",
    "    ) -> None:\n",
    "        super(DenseBlock,self).__init__()\n",
    "        for i in range(num_layers):\n",
    "            layer = conv_block(\n",
    "                in_channels = num_input_features + i * growth_rate,\n",
    "                out_channels = growth_rate\n",
    "            )\n",
    "            self.add_module(\"conv_block%d\" % (i + 1), layer)\n",
    "\n",
    "    def forward(self, init_features):\n",
    "        features = [init_features]\n",
    "        for name, layer in self.items():\n",
    "            new_features = layer(torch.cat(features, 1))\n",
    "            features.append(new_features)\n",
    "        return torch.cat(features, 1)\n",
    "\n",
    "\n",
    "class DenseNet(nn.Module):\n",
    "    \n",
    "    def __init__(\n",
    "        self,\n",
    "        growth_rate: int = 12,\n",
    "        block_config = [6, 12, 24, 16],\n",
    "        num_init_features: int = 32,\n",
    "        in_feature_dim: int = 32,\n",
    "        num_classes: int = 10,\n",
    "        classifier: str = 'Linear'\n",
    "        ):\n",
    "\n",
    "        super(DenseNet,self).__init__()\n",
    "        \n",
    "        self.final = classifier\n",
    "      \n",
    "        # First convolution\n",
    "        self.features = nn.Sequential(\n",
    "            OrderedDict(\n",
    "                [\n",
    "                    (\"conv0\", nn.Conv2d(3, num_init_features, kernel_size=3, stride=2, padding=1, bias=False)),\n",
    "                    (\"norm0\", nn.BatchNorm2d(num_init_features)),\n",
    "                    (\"relu0\", nn.ReLU(inplace=True)),\n",
    "                ]\n",
    "            )\n",
    "        )\n",
    "      \n",
    "        # Each denseblock\n",
    "        feature_dim = in_feature_dim//2 #due to stride 2 in conv1.\n",
    "        num_features = num_init_features\n",
    "        for i, num_layers in enumerate(block_config):\n",
    "            block = DenseBlock(\n",
    "                num_layers=num_layers,\n",
    "                num_input_features=num_features,\n",
    "                growth_rate=growth_rate\n",
    "            )\n",
    "            self.features.add_module(\"denseblock%d\" % (i + 1), block)\n",
    "            num_features = num_features + num_layers * growth_rate\n",
    "            if i != len(block_config) - 1:\n",
    "                trans = Transition(in_channels=num_features, out_channels=num_features // 2)\n",
    "                self.features.add_module(\"transition%d\" % (i + 1), trans)\n",
    "                num_features = num_features // 2\n",
    "                feature_dim = feature_dim // 2\n",
    "\n",
    "        # Final batch norm\n",
    "        self.features.add_module(\"norm5\", nn.BatchNorm2d(num_features))\n",
    "\n",
    "        # classifier layer\n",
    "        if(classifier == 'Linear'):\n",
    "            self.classifier = nn.Linear(num_features, num_classes)\n",
    "        \n",
    "        if(classifier == 'P_Net'):\n",
    "            self.classifier = P_Net(num_features, num_classes, feature_dim, final=True)\n",
    "\n",
    "    def forward(self, x):\n",
    "        features = self.features(x)\n",
    "        out = F.relu(features,inplace = True)\n",
    "\n",
    "        if(self.final=='Linear'):\n",
    "            out = F.adaptive_avg_pool2d(out, (1, 1))\n",
    "            out = torch.flatten(out, 1)\n",
    "        elif(self.final=='P_Net'):\n",
    "            out = self.classifier(out)\n",
    "        return out\n"
   ]
  },
  {
   "cell_type": "code",
   "execution_count": 5,
   "id": "c1ca4d37",
   "metadata": {
    "execution": {
     "iopub.execute_input": "2023-04-01T23:04:30.184331Z",
     "iopub.status.busy": "2023-04-01T23:04:30.184039Z",
     "iopub.status.idle": "2023-04-01T23:04:37.251285Z",
     "shell.execute_reply": "2023-04-01T23:04:37.249802Z"
    },
    "papermill": {
     "duration": 7.075303,
     "end_time": "2023-04-01T23:04:37.254757",
     "exception": false,
     "start_time": "2023-04-01T23:04:30.179454",
     "status": "completed"
    },
    "tags": []
   },
   "outputs": [],
   "source": [
    "data_path = '../input/lung-and-colon-cancer-histopathological-images/lung_colon_image_set/colon_image_sets/'\n",
    "\n",
    "from torchvision import datasets, transforms\n",
    "\n",
    "transform = transforms.Compose([transforms.Resize((128,128)),\n",
    "                                transforms.ToTensor(),\n",
    "                                transforms.Normalize((0.4914, 0.4822, 0.4465), (0.2023, 0.1994, 0.2010))])\n",
    "\n",
    "dataset = datasets.ImageFolder(data_path, transform=transform)\n",
    "\n",
    "train_dataset,test_dataset = torch.utils.data.random_split(dataset,[9000,1000])"
   ]
  },
  {
   "cell_type": "code",
   "execution_count": 6,
   "id": "20786209",
   "metadata": {
    "execution": {
     "iopub.execute_input": "2023-04-01T23:04:37.276854Z",
     "iopub.status.busy": "2023-04-01T23:04:37.275637Z",
     "iopub.status.idle": "2023-04-01T23:04:37.285893Z",
     "shell.execute_reply": "2023-04-01T23:04:37.281279Z"
    },
    "papermill": {
     "duration": 0.026268,
     "end_time": "2023-04-01T23:04:37.288872",
     "exception": false,
     "start_time": "2023-04-01T23:04:37.262604",
     "status": "completed"
    },
    "tags": []
   },
   "outputs": [
    {
     "name": "stdout",
     "output_type": "stream",
     "text": [
      "['colon_aca', 'colon_n']\n"
     ]
    }
   ],
   "source": [
    "print(dataset.classes)\n",
    "n_classes = len(dataset.classes)"
   ]
  },
  {
   "cell_type": "code",
   "execution_count": 7,
   "id": "a21c5587",
   "metadata": {
    "execution": {
     "iopub.execute_input": "2023-04-01T23:04:37.307118Z",
     "iopub.status.busy": "2023-04-01T23:04:37.306759Z",
     "iopub.status.idle": "2023-04-01T23:04:37.315197Z",
     "shell.execute_reply": "2023-04-01T23:04:37.313137Z"
    },
    "papermill": {
     "duration": 0.020558,
     "end_time": "2023-04-01T23:04:37.319440",
     "exception": false,
     "start_time": "2023-04-01T23:04:37.298882",
     "status": "completed"
    },
    "tags": []
   },
   "outputs": [],
   "source": [
    "train_loader = torch.utils.data.DataLoader(dataset=train_dataset, shuffle=True, batch_size=128,num_workers=2)\n",
    "test_loader = torch.utils.data.DataLoader(dataset=test_dataset, shuffle=False, batch_size=128,num_workers=2)"
   ]
  },
  {
   "cell_type": "code",
   "execution_count": 8,
   "id": "c52ea079",
   "metadata": {
    "execution": {
     "iopub.execute_input": "2023-04-01T23:04:37.334575Z",
     "iopub.status.busy": "2023-04-01T23:04:37.333032Z",
     "iopub.status.idle": "2023-04-01T23:04:40.537446Z",
     "shell.execute_reply": "2023-04-01T23:04:40.535908Z"
    },
    "papermill": {
     "duration": 3.211902,
     "end_time": "2023-04-01T23:04:40.539642",
     "exception": false,
     "start_time": "2023-04-01T23:04:37.327740",
     "status": "completed"
    },
    "tags": []
   },
   "outputs": [
    {
     "name": "stdout",
     "output_type": "stream",
     "text": [
      "model output shape: torch.Size([1, 2]).\n",
      "Total trainable parameters: 1294488.\n"
     ]
    }
   ],
   "source": [
    "model = DenseNet(growth_rate = 24,\n",
    "                block_config = [6, 12, 24, 16],\n",
    "                   num_init_features= 32,\n",
    "                   in_feature_dim= 128,\n",
    "                   num_classes= n_classes,\n",
    "                   classifier='P_Net')\n",
    "\n",
    "x = torch.randn(1,3,128,128)\n",
    "output = model(x)\n",
    "print(f'model output shape: {output.shape}.')\n",
    "\n",
    "model = model.to(device)\n",
    "\n",
    "total_params=sum(p.numel() for p in model.parameters() if p.requires_grad)\n",
    "print(f'Total trainable parameters: {total_params}.')\n",
    "#summary(model,(3,32,32))\n",
    "\n",
    "loss = nn.CrossEntropyLoss()"
   ]
  },
  {
   "cell_type": "code",
   "execution_count": 9,
   "id": "852c47e3",
   "metadata": {
    "execution": {
     "iopub.execute_input": "2023-04-01T23:04:40.549357Z",
     "iopub.status.busy": "2023-04-01T23:04:40.549052Z",
     "iopub.status.idle": "2023-04-01T23:04:40.563383Z",
     "shell.execute_reply": "2023-04-01T23:04:40.562283Z"
    },
    "papermill": {
     "duration": 0.021601,
     "end_time": "2023-04-01T23:04:40.565401",
     "exception": false,
     "start_time": "2023-04-01T23:04:40.543800",
     "status": "completed"
    },
    "tags": []
   },
   "outputs": [],
   "source": [
    "class Model_trainer():\n",
    "\n",
    "    def __init__(self,classes):\n",
    "\n",
    "        self.test_loss = []\n",
    "        self.train_loss = []\n",
    "        self.classes = classes\n",
    "        self.prediction: dict\n",
    "        self.prevepoch_loss = float('inf')\n",
    "\n",
    "    def train_loop(self, dataloader, model, loss_fn, optimizer):\n",
    "        model.train()\n",
    "        size = len(dataloader.dataset)\n",
    "        num_batches = len(dataloader)\n",
    "        train_loss = 0\n",
    "        for batch, (X, y) in enumerate(dataloader):\n",
    "            X = X.to(device)\n",
    "            y = y.to(device)\n",
    "            # Compute prediction and loss\n",
    "            pred = model(X)\n",
    "            loss = loss_fn(pred, y)\n",
    "            train_loss += loss.item()\n",
    "\n",
    "            # Backpropagation\n",
    "            optimizer.zero_grad()\n",
    "            loss.backward()\n",
    "            optimizer.step()\n",
    "\n",
    "        train_loss /= num_batches\n",
    "        return train_loss\n",
    "\n",
    "    def test_loop(self, dataloader, model, loss_fn):\n",
    "        model.eval()\n",
    "\n",
    "        size = len(dataloader.dataset)\n",
    "        num_batches = len(dataloader)\n",
    "        test_loss = 0\n",
    "\n",
    "        y_pred = []\n",
    "        y_true = []\n",
    "\n",
    "        with torch.no_grad():\n",
    "            for X, y in dataloader:\n",
    "                X = X.to(device)\n",
    "                y = y.to(device)\n",
    "                pred = model(X)\n",
    "                test_loss += loss_fn(pred, y).item()\n",
    "\n",
    "                y_pred.append(torch.argmax(pred,dim=-1).cpu().numpy())\n",
    "                y_true.append(y.cpu().numpy())\n",
    "\n",
    "        test_loss /= num_batches\n",
    "        return test_loss,{'y_pred':y_pred,'y_true':y_true}\n",
    "\n",
    "\n",
    "    def fit(self,trainloader, testloader, model, loss_fn, optimizer, scheduler, epochs=30, verbose=False):\n",
    "        for t in range(epochs):\n",
    "            train_loss = self.train_loop(trainloader, model, loss_fn, optimizer)\n",
    "            test_loss,prediction = self.test_loop(testloader,model, loss)\n",
    "            scheduler.step(test_loss)\n",
    "            self.train_loss.append(train_loss)\n",
    "            self.test_loss.append(test_loss)\n",
    "            if(self.prevepoch_loss > test_loss):\n",
    "                self.prediction = prediction\n",
    "                if(verbose):\n",
    "                  print('saving model predictions')\n",
    "            self.prevepoch_loss = test_loss\n",
    "            print('Epoch: %d, Train Loss: %.5f, Test Loss: %.5f'%(t+1,train_loss,test_loss))\n",
    "\n",
    "        self.prediction['y_pred'] = np.concatenate(self.prediction['y_pred'])\n",
    "        self.prediction['y_true'] = np.concatenate(self.prediction['y_true'])\n",
    "        return {'Train_loss':self.train_loss,'Test_loss':self.test_loss,'class_label':self.classes},self.prediction"
   ]
  },
  {
   "cell_type": "code",
   "execution_count": 10,
   "id": "a1b56c43",
   "metadata": {
    "execution": {
     "iopub.execute_input": "2023-04-01T23:04:40.575096Z",
     "iopub.status.busy": "2023-04-01T23:04:40.574235Z",
     "iopub.status.idle": "2023-04-01T23:04:40.581676Z",
     "shell.execute_reply": "2023-04-01T23:04:40.580690Z"
    },
    "papermill": {
     "duration": 0.014419,
     "end_time": "2023-04-01T23:04:40.583739",
     "exception": false,
     "start_time": "2023-04-01T23:04:40.569320",
     "status": "completed"
    },
    "tags": []
   },
   "outputs": [],
   "source": [
    "optimizer = optim.Adam(model.parameters(), lr=0.001, weight_decay=0.0)\n",
    "scheduler = optim.lr_scheduler.ReduceLROnPlateau(optimizer, \n",
    "                                                  mode='min', \n",
    "                                                  factor=0.5, \n",
    "                                                  patience=2, \n",
    "                                                  threshold=0.001,\n",
    "                                                  min_lr=1e-7,\n",
    "                                                  verbose=True)\n",
    "model_trainer = Model_trainer(dataset.classes)"
   ]
  },
  {
   "cell_type": "code",
   "execution_count": 11,
   "id": "806af49d",
   "metadata": {
    "execution": {
     "iopub.execute_input": "2023-04-01T23:04:40.592632Z",
     "iopub.status.busy": "2023-04-01T23:04:40.592365Z",
     "iopub.status.idle": "2023-04-02T00:56:53.616330Z",
     "shell.execute_reply": "2023-04-02T00:56:53.615055Z"
    },
    "papermill": {
     "duration": 6733.03626,
     "end_time": "2023-04-02T00:56:53.623879",
     "exception": false,
     "start_time": "2023-04-01T23:04:40.587619",
     "status": "completed"
    },
    "tags": []
   },
   "outputs": [
    {
     "name": "stdout",
     "output_type": "stream",
     "text": [
      "Epoch: 1, Train Loss: 0.26653, Test Loss: 0.02330\n",
      "Epoch: 2, Train Loss: 0.01926, Test Loss: 0.00763\n",
      "Epoch: 3, Train Loss: 0.00476, Test Loss: 0.01139\n",
      "Epoch: 4, Train Loss: 0.00868, Test Loss: 0.04452\n",
      "Epoch 00005: reducing learning rate of group 0 to 5.0000e-04.\n",
      "Epoch: 5, Train Loss: 0.01364, Test Loss: 0.06453\n",
      "Epoch: 6, Train Loss: 0.00169, Test Loss: 0.00143\n",
      "Epoch: 7, Train Loss: 0.00046, Test Loss: 0.00391\n",
      "Epoch: 8, Train Loss: 0.00032, Test Loss: 0.00234\n",
      "Epoch 00009: reducing learning rate of group 0 to 2.5000e-04.\n",
      "Epoch: 9, Train Loss: 0.00010, Test Loss: 0.00258\n",
      "Epoch: 10, Train Loss: 0.00018, Test Loss: 0.00202\n",
      "Epoch: 11, Train Loss: 0.00010, Test Loss: 0.00205\n",
      "Epoch: 12, Train Loss: 0.00008, Test Loss: 0.00141\n",
      "Epoch: 13, Train Loss: 0.00005, Test Loss: 0.00161\n",
      "Epoch: 14, Train Loss: 0.00009, Test Loss: 0.00177\n",
      "Epoch 00015: reducing learning rate of group 0 to 1.2500e-04.\n",
      "Epoch: 15, Train Loss: 0.00009, Test Loss: 0.00172\n",
      "Epoch: 16, Train Loss: 0.00004, Test Loss: 0.00129\n",
      "Epoch: 17, Train Loss: 0.00008, Test Loss: 0.00104\n",
      "Epoch: 18, Train Loss: 0.00005, Test Loss: 0.00140\n",
      "Epoch: 19, Train Loss: 0.00003, Test Loss: 0.00111\n",
      "Epoch: 20, Train Loss: 0.00004, Test Loss: 0.00088\n",
      "Epoch: 21, Train Loss: 0.00003, Test Loss: 0.00129\n",
      "Epoch: 22, Train Loss: 0.00004, Test Loss: 0.00171\n",
      "Epoch 00023: reducing learning rate of group 0 to 6.2500e-05.\n",
      "Epoch: 23, Train Loss: 0.00005, Test Loss: 0.00106\n",
      "Epoch: 24, Train Loss: 0.00003, Test Loss: 0.00139\n",
      "Epoch: 25, Train Loss: 0.00004, Test Loss: 0.00118\n",
      "Epoch 00026: reducing learning rate of group 0 to 3.1250e-05.\n",
      "Epoch: 26, Train Loss: 0.00005, Test Loss: 0.00123\n",
      "Epoch: 27, Train Loss: 0.00004, Test Loss: 0.00135\n",
      "Epoch: 28, Train Loss: 0.00004, Test Loss: 0.00160\n",
      "Epoch 00029: reducing learning rate of group 0 to 1.5625e-05.\n",
      "Epoch: 29, Train Loss: 0.00004, Test Loss: 0.00117\n",
      "Epoch: 30, Train Loss: 0.00006, Test Loss: 0.00079\n",
      "Epoch: 31, Train Loss: 0.00006, Test Loss: 0.00207\n",
      "Epoch: 32, Train Loss: 0.00003, Test Loss: 0.00159\n",
      "Epoch 00033: reducing learning rate of group 0 to 7.8125e-06.\n",
      "Epoch: 33, Train Loss: 0.00003, Test Loss: 0.00140\n",
      "Epoch: 34, Train Loss: 0.00002, Test Loss: 0.00146\n",
      "Epoch: 35, Train Loss: 0.00003, Test Loss: 0.00133\n",
      "Epoch 00036: reducing learning rate of group 0 to 3.9063e-06.\n",
      "Epoch: 36, Train Loss: 0.00002, Test Loss: 0.00112\n",
      "Epoch: 37, Train Loss: 0.00004, Test Loss: 0.00108\n",
      "Epoch: 38, Train Loss: 0.00003, Test Loss: 0.00112\n",
      "Epoch: 39, Train Loss: 0.00005, Test Loss: 0.00075\n",
      "Epoch: 40, Train Loss: 0.00002, Test Loss: 0.00108\n",
      "Epoch: 41, Train Loss: 0.00003, Test Loss: 0.00124\n",
      "Epoch 00042: reducing learning rate of group 0 to 1.9531e-06.\n",
      "Epoch: 42, Train Loss: 0.00005, Test Loss: 0.00080\n",
      "Epoch: 43, Train Loss: 0.00003, Test Loss: 0.00127\n",
      "Epoch: 44, Train Loss: 0.00003, Test Loss: 0.00109\n",
      "Epoch 00045: reducing learning rate of group 0 to 9.7656e-07.\n",
      "Epoch: 45, Train Loss: 0.00004, Test Loss: 0.00147\n",
      "Epoch: 46, Train Loss: 0.00003, Test Loss: 0.00089\n",
      "Epoch: 47, Train Loss: 0.00003, Test Loss: 0.00109\n",
      "Epoch 00048: reducing learning rate of group 0 to 4.8828e-07.\n",
      "Epoch: 48, Train Loss: 0.00002, Test Loss: 0.00116\n",
      "Epoch: 49, Train Loss: 0.00004, Test Loss: 0.00215\n",
      "Epoch: 50, Train Loss: 0.00010, Test Loss: 0.00105\n",
      "Epoch 00051: reducing learning rate of group 0 to 2.4414e-07.\n",
      "Epoch: 51, Train Loss: 0.00003, Test Loss: 0.00079\n",
      "Epoch: 52, Train Loss: 0.00003, Test Loss: 0.00121\n",
      "Epoch: 53, Train Loss: 0.00005, Test Loss: 0.00109\n",
      "Epoch 00054: reducing learning rate of group 0 to 1.2207e-07.\n",
      "Epoch: 54, Train Loss: 0.00004, Test Loss: 0.00129\n",
      "Epoch: 55, Train Loss: 0.00003, Test Loss: 0.00141\n",
      "Epoch: 56, Train Loss: 0.00002, Test Loss: 0.00162\n",
      "Epoch 00057: reducing learning rate of group 0 to 1.0000e-07.\n",
      "Epoch: 57, Train Loss: 0.00003, Test Loss: 0.00158\n",
      "Epoch: 58, Train Loss: 0.00005, Test Loss: 0.00137\n",
      "Epoch: 59, Train Loss: 0.00003, Test Loss: 0.00156\n",
      "Epoch: 60, Train Loss: 0.00004, Test Loss: 0.00115\n"
     ]
    }
   ],
   "source": [
    "history,prediction = model_trainer.fit(train_loader,test_loader,model,loss,optimizer,scheduler,epochs=60)"
   ]
  },
  {
   "cell_type": "code",
   "execution_count": 12,
   "id": "55fa44e4",
   "metadata": {
    "execution": {
     "iopub.execute_input": "2023-04-02T00:56:53.640099Z",
     "iopub.status.busy": "2023-04-02T00:56:53.639765Z",
     "iopub.status.idle": "2023-04-02T00:56:53.652268Z",
     "shell.execute_reply": "2023-04-02T00:56:53.650912Z"
    },
    "papermill": {
     "duration": 0.023075,
     "end_time": "2023-04-02T00:56:53.654561",
     "exception": false,
     "start_time": "2023-04-02T00:56:53.631486",
     "status": "completed"
    },
    "tags": []
   },
   "outputs": [
    {
     "name": "stdout",
     "output_type": "stream",
     "text": [
      "              precision    recall  f1-score   support\n",
      "\n",
      "           0      1.000     0.998     0.999       501\n",
      "           1      0.998     1.000     0.999       499\n",
      "\n",
      "    accuracy                          0.999      1000\n",
      "   macro avg      0.999     0.999     0.999      1000\n",
      "weighted avg      0.999     0.999     0.999      1000\n",
      "\n"
     ]
    }
   ],
   "source": [
    "print(metrics.classification_report(prediction['y_true'],prediction['y_pred'], digits=3))"
   ]
  },
  {
   "cell_type": "code",
   "execution_count": 13,
   "id": "999997e3",
   "metadata": {
    "execution": {
     "iopub.execute_input": "2023-04-02T00:56:53.669595Z",
     "iopub.status.busy": "2023-04-02T00:56:53.669318Z",
     "iopub.status.idle": "2023-04-02T00:56:53.911109Z",
     "shell.execute_reply": "2023-04-02T00:56:53.910107Z"
    },
    "papermill": {
     "duration": 0.251766,
     "end_time": "2023-04-02T00:56:53.913255",
     "exception": false,
     "start_time": "2023-04-02T00:56:53.661489",
     "status": "completed"
    },
    "tags": []
   },
   "outputs": [
    {
     "data": {
      "image/png": "[encoded data removed]",
      "text/plain": [
       "<Figure size 640x480 with 2 Axes>"
      ]
     },
     "metadata": {},
     "output_type": "display_data"
    }
   ],
   "source": [
    "confusion_matrix = metrics.confusion_matrix(prediction['y_true'],prediction['y_pred'])\n",
    "img = metrics.ConfusionMatrixDisplay(confusion_matrix,display_labels=history['class_label'])\n",
    "img.plot()\n",
    "plt.show()"
   ]
  },
  {
   "cell_type": "code",
   "execution_count": 14,
   "id": "fb049969",
   "metadata": {
    "execution": {
     "iopub.execute_input": "2023-04-02T00:56:53.929850Z",
     "iopub.status.busy": "2023-04-02T00:56:53.929266Z",
     "iopub.status.idle": "2023-04-02T00:56:54.131444Z",
     "shell.execute_reply": "2023-04-02T00:56:54.130484Z"
    },
    "papermill": {
     "duration": 0.212833,
     "end_time": "2023-04-02T00:56:54.133550",
     "exception": false,
     "start_time": "2023-04-02T00:56:53.920717",
     "status": "completed"
    },
    "tags": []
   },
   "outputs": [
    {
     "data": {
      "image/png": "[encoded data removed]",
      "text/plain": [
       "<Figure size 640x480 with 1 Axes>"
      ]
     },
     "metadata": {},
     "output_type": "display_data"
    }
   ],
   "source": [
    "plt.plot(history['Train_loss'])\n",
    "plt.plot(history['Test_loss'])\n",
    "plt.title('efficientnet_b0 model loss')\n",
    "plt.ylabel('loss')\n",
    "plt.xlabel('epoch')\n",
    "plt.legend(['train', 'test'], loc='upper right')\n",
    "plt.show()"
   ]
  },
  {
   "cell_type": "code",
   "execution_count": 15,
   "id": "b948a1e3",
   "metadata": {
    "execution": {
     "iopub.execute_input": "2023-04-02T00:56:54.150778Z",
     "iopub.status.busy": "2023-04-02T00:56:54.150179Z",
     "iopub.status.idle": "2023-04-02T00:56:54.155575Z",
     "shell.execute_reply": "2023-04-02T00:56:54.154755Z"
    },
    "papermill": {
     "duration": 0.016464,
     "end_time": "2023-04-02T00:56:54.157932",
     "exception": false,
     "start_time": "2023-04-02T00:56:54.141468",
     "status": "completed"
    },
    "tags": []
   },
   "outputs": [],
   "source": [
    "with open('../working/dens_colon_history.pickle', 'wb') as handle:\n",
    "    pickle.dump(history, handle, protocol=pickle.HIGHEST_PROTOCOL)\n",
    "\n",
    "with open('../working/dens_colon_prediction.pickle', 'wb') as handle:\n",
    "    pickle.dump(prediction, handle, protocol=pickle.HIGHEST_PROTOCOL)\n"
   ]
  },
  {
   "cell_type": "code",
   "execution_count": 16,
   "id": "557659bf",
   "metadata": {
    "execution": {
     "iopub.execute_input": "2023-04-02T00:56:54.174333Z",
     "iopub.status.busy": "2023-04-02T00:56:54.174035Z",
     "iopub.status.idle": "2023-04-02T00:56:54.178130Z",
     "shell.execute_reply": "2023-04-02T00:56:54.177151Z"
    },
    "papermill": {
     "duration": 0.014623,
     "end_time": "2023-04-02T00:56:54.180156",
     "exception": false,
     "start_time": "2023-04-02T00:56:54.165533",
     "status": "completed"
    },
    "tags": []
   },
   "outputs": [],
   "source": [
    "# with open('colon_prediction.pickle', 'rb') as handle:\n",
    "#     prediction = pickle.load(handle)\n",
    "# with open('colon_history_.pickle', 'rb') as handle:\n",
    "#     history = pickle.load(handle)"
   ]
  }
 ],
 "metadata": {
  "kernelspec": {
   "display_name": "Python 3",
   "language": "python",
   "name": "python3"
  },
  "language_info": {
   "codemirror_mode": {
    "name": "ipython",
    "version": 3
   },
   "file_extension": ".py",
   "mimetype": "text/x-python",
   "name": "python",
   "nbconvert_exporter": "python",
   "pygments_lexer": "ipython3",
   "version": "3.7.12"
  },
  "papermill": {
   "default_parameters": {},
   "duration": 6758.952231,
   "end_time": "2023-04-02T00:56:56.604155",
   "environment_variables": {},
   "exception": null,
   "input_path": "__notebook__.ipynb",
   "output_path": "__notebook__.ipynb",
   "parameters": {},
   "start_time": "2023-04-01T23:04:17.651924",
   "version": "2.4.0"
  }
 },
 "nbformat": 4,
 "nbformat_minor": 5
}
